{
 "cells": [
  {
   "cell_type": "markdown",
   "id": "d1f0c4e6",
   "metadata": {},
   "source": [
    "# Object-Oriented Programming Task Sheet\n",
    "\n",
    "by [Luciano Gabbanelli](https://www.linkedin.com/in/luciano-gabbanelli-ph-d-75302218)"
   ]
  },
  {
   "cell_type": "markdown",
   "id": "22f08206",
   "metadata": {},
   "source": [
    "<img width=80 src=\"https://media.giphy.com/media/KAq5w47R9rmTuvWOWa/giphy.gif\">\n",
    "\n",
    "<img width=150 src=\"Images/Assembler.png\">\n",
    "\n",
    "***"
   ]
  },
  {
   "cell_type": "markdown",
   "id": "1ad80854",
   "metadata": {},
   "source": [
    "## Person class\n",
    "\n",
    "Let's create a class called Person. Its attributes are: name, age and ID number. Build the following methods for the class:\n",
    "\n",
    "- A constructor, where the data can be empty.\n",
    "\n",
    "- display(): Displays the person's data.\n",
    "\n",
    "- is_of_legal_age(): Returns a logical value indicating whether it is of legal age."
   ]
  },
  {
   "cell_type": "code",
   "execution_count": 21,
   "id": "68dd3a97",
   "metadata": {},
   "outputs": [],
   "source": [
    "# Type you code here:\n",
    "\n",
    "class Person:\n",
    "    def __init__(self, name = \"\", age = int(), ID = int()):\n",
    "        self.name = name\n",
    "        self.age = age\n",
    "        self.ID = ID\n",
    "\n",
    "    def display(self):\n",
    "        print(\"name=\", self.name, \"age=\", self.age, \"ID=\", self.ID)\n",
    "\n",
    "    def is_of_legal_age(self):\n",
    "        return self.age >= 18"
   ]
  },
  {
   "cell_type": "markdown",
   "id": "dc23917a",
   "metadata": {},
   "source": [
    "## Shopping cart\n",
    "\n",
    "In this exercise we are going to program a shopping cart. For this we are going to create two classes: Cart and Item. \n",
    "\n",
    "The item will have as properties a name, a price and a url of the image that represents it. By default, the url is initialized to blank.\n",
    "\n",
    "The Cart has as its only property a list of dictionaries: a private variable called `_lines`.\n",
    "\n",
    "Carts are initialized empty and then lines are added using the `item_aggregator()` method. Each line is a dictionary with key: \"item\" and value: \"quantity\" (depending on the amount that we want to add to the cart).\n",
    "\n",
    "Finally, the carts have a `get_total()` method that returns the sum of the prices of the items, multiplied by the quantities that are in each line.\n",
    "\n",
    "</br>\n",
    "\n",
    "Once you are done with this:\n",
    "\n",
    "- Create the items banana priced at \\\\$49.5 and yogurt priced at \\\\$32.5\n",
    "\n",
    "- Add two bananas and 3 yogurts to the cart\n",
    "\n",
    "- Get the total price for these items"
   ]
  },
  {
   "cell_type": "code",
   "execution_count": 2,
   "id": "1693ce7b",
   "metadata": {},
   "outputs": [],
   "source": [
    "# Type you code here:\n",
    "\n",
    "# Create Item class\n",
    "class Item():\n",
    "    def __init__(self, name, price, image_url=''): \n",
    "        \"\"\" \n",
    "        All item properties are required except image_url.\n",
    "        \n",
    "        In the item all the properties are \"public\". \n",
    "        This will be useful to access the price from the cart.\n",
    "        \"\"\"\n",
    "        self.name = name\n",
    "        self.price = price\n",
    "        self.image_url = image_url"
   ]
  },
  {
   "cell_type": "code",
   "execution_count": 3,
   "id": "5d2fb097",
   "metadata": {},
   "outputs": [],
   "source": [
    "# Create the items banana at a price of $49.5 and yogurt at $32.5\n",
    "banana = Item(\"banana\",49.5)\n",
    "yogurt = Item(\"yogurt\",32.5)"
   ]
  },
  {
   "cell_type": "code",
   "execution_count": 4,
   "id": "37be2fe4",
   "metadata": {},
   "outputs": [],
   "source": [
    "# Create the Cart class\n",
    "class Cart():\n",
    "    def __init__(self): \n",
    "        \"\"\" \n",
    "        The Cart is always initialized with a list of items.\n",
    "        In the cart the only property is \"private\".\n",
    "        \"\"\"\n",
    "        self._lines = []\n",
    "        \n",
    "    def get_total(self):\n",
    "        total = 0\n",
    "        for line in self._lines:\n",
    "            total = total + (line['quantity'] * line['item'].price)\n",
    "        return total\n",
    "            \n",
    "    def item_aggregator(self,line):\n",
    "        self._lines.append(line)"
   ]
  },
  {
   "cell_type": "code",
   "execution_count": 5,
   "id": "3e2410d7",
   "metadata": {},
   "outputs": [],
   "source": [
    "# Instancite the cart\n",
    "cart = Cart()"
   ]
  },
  {
   "cell_type": "code",
   "execution_count": 6,
   "id": "f49ab7eb",
   "metadata": {},
   "outputs": [],
   "source": [
    "# Add 2 bananas\n",
    "cart.item_aggregator({'item':banana,'quantity':2})"
   ]
  },
  {
   "cell_type": "code",
   "execution_count": 7,
   "id": "d69a2174",
   "metadata": {},
   "outputs": [],
   "source": [
    "# Add 3 yogurts\n",
    "cart.item_aggregator({'item':yogurt,'quantity':3})"
   ]
  },
  {
   "cell_type": "code",
   "execution_count": 8,
   "id": "05264a85",
   "metadata": {},
   "outputs": [
    {
     "data": {
      "text/plain": [
       "196.5"
      ]
     },
     "execution_count": 8,
     "metadata": {},
     "output_type": "execute_result"
    }
   ],
   "source": [
    "# Get the total price\n",
    "cart.get_total()"
   ]
  },
  {
   "cell_type": "markdown",
   "id": "93e3dbd3",
   "metadata": {},
   "source": [
    "## Bank account\n",
    "\n",
    "Create a class called Account that will have the following attributes: bank account holder (which is a\n",
    "Person; you can use the class defined in exercice 1-Person class) and amount of money available (may have decimals). The holder will be mandatory and the amount is optional. \n",
    "\n",
    "Build the following methods for your class:\n",
    "\n",
    "- A constructor, where the **data can be empty**.\n",
    "\n",
    "- The amount attribute should not be modified directly, only by depositing or withdrawing money. **The code must indicate this feature for the attribute explicitly to other developers..**\n",
    "\n",
    "- display(): Displays the account data.\n",
    "\n",
    "- deposit(amount): an amount is deposited into the account. If the amount entered is negative, nothing will be done.\n",
    "\n",
    "- withdraw(amount): an amount is withdrawn from the account. The account may be in Red.\n",
    "\n",
    "- The deposit and withdrawal methods must work by entering the amount on the screen. When executing these methods, the script must launch a message indicating the amount of money with which one of these two options wants to be carried out."
   ]
  },
  {
   "cell_type": "code",
   "execution_count": 79,
   "id": "1e135364",
   "metadata": {},
   "outputs": [],
   "source": [
    "# Type your code here:\n",
    "\n",
    "class Account:\n",
    "    def __init__(self, holder = Person(), amount = float()):\n",
    "        self.holder = holder\n",
    "        self._amount = amount\n",
    "        \n",
    "    def display(self):\n",
    "        print(\"Bank account holder:\", self.holder.name, \"\\nAmount of money in account:\", self._amount)\n",
    "\n",
    "    def deposit(self):\n",
    "        new_qty = float(input(\"Enter the amount of money you wish to deposit:\"))\n",
    "        if new_qty < 0:\n",
    "            return\n",
    "        else:\n",
    "            self._amount = self._amount + new_qty\n",
    "            return self._amount\n",
    "\n",
    "    def withdraw(self):\n",
    "        new_qty = float(input(\"Enter the amount of money you want to withdraw:\"))\n",
    "        self._amount = self._amount - new_qty\n",
    "        return self._amount"
   ]
  },
  {
   "cell_type": "markdown",
   "id": "3a3f5326",
   "metadata": {},
   "source": [
    "## Inheritance\n",
    "\n",
    "Write a Python class named `Rectangle` with a constructor that accepts two parameters, the height `h` and the width `w`, and methods to compute their properties: area and perimeter.\n",
    "\n",
    "In Euclidean plane geometry, a rectangle is a quadrilateral with four right angles. To find the area and perimeter of a rectangle, you will have to operate the length and the width.\n",
    "\n",
    "<img width=200 src=\"Images/area-rectangle.png\">\n",
    "\n",
    "A rectangle with four sides of equal length is a square: create a subclass (derived class) called `Square` inherited from `Rectangle` with a constructor that accepts one parameter `h`, and sets both the `h` and `w` attributes to the value of `h`.\n",
    "\n",
    "- Instantiate a rectangle\n",
    "\n",
    "- Query the base, height, perimeter, and area of this rectangle\n",
    "\n",
    "- Instantiate a square\n",
    "\n",
    "- Perform the same queries as for the rectangle\n",
    "\n",
    "To conclude, we are going to create a third class called Cube whose base class will respond to Square. In this class you are going to add a method called surphase that uses the area method of its base or parent class; and a method called volume.\n",
    "\n",
    "- Instantiate a cube\n",
    "\n",
    "- Query its surface and volume\n",
    "\n",
    "**Hint:** If you display the faces of a cube, we see that its surface is associated with the areas of the 6 squares that make it up.\n",
    "\n",
    "<img width=100 src=\"Images/cube.png\">"
   ]
  },
  {
   "cell_type": "code",
   "execution_count": 10,
   "id": "9b2af14a",
   "metadata": {},
   "outputs": [],
   "source": [
    "# Type your code here:\n",
    "\n",
    "class Rectangle():\n",
    "    def __init__(self, h, w):\n",
    "        self.height = h\n",
    "        self.width  = w\n",
    "\n",
    "    def area(self):\n",
    "        return self.height*self.width\n",
    "\n",
    "    def perimeter(self):\n",
    "        return 2*(self.height+self.width)\n",
    "\n",
    "# Here we declare that the Square class inherits from the Rectangle class\n",
    "class Square(Rectangle):\n",
    "    def __init__(self, h):\n",
    "        super().__init__(h, h)\n",
    "\n",
    "# Here we declare that the Cube class inherits from the Rectangulo class\n",
    "class Cube(Square):\n",
    "    def surface(self):\n",
    "        face_area = super().area()\n",
    "        return face_area * 6\n",
    "    \n",
    "    def volume(self):\n",
    "        return self.height ** 3"
   ]
  },
  {
   "cell_type": "code",
   "execution_count": 11,
   "id": "9964bef4",
   "metadata": {},
   "outputs": [],
   "source": [
    "newRectangle = Rectangle(2, 4)"
   ]
  },
  {
   "cell_type": "code",
   "execution_count": 12,
   "id": "73f83d88",
   "metadata": {},
   "outputs": [
    {
     "name": "stdout",
     "output_type": "stream",
     "text": [
      "The height of the rectangle is 2\n",
      "Its width is 4\n",
      "The perimeter is 12\n",
      "The area is 8\n"
     ]
    }
   ],
   "source": [
    "print(f'The height of the rectangle is {newRectangle.height}')\n",
    "print(f'Its width is {newRectangle.width}')\n",
    "print('The perimeter is', newRectangle.perimeter())\n",
    "print('The area is', newRectangle.area())"
   ]
  },
  {
   "cell_type": "code",
   "execution_count": 13,
   "id": "c73c4be6",
   "metadata": {},
   "outputs": [
    {
     "name": "stdout",
     "output_type": "stream",
     "text": [
      "The height of the square is 4\n",
      "Its width is 4\n",
      "The perimeter is 16\n",
      "The area is 16\n"
     ]
    }
   ],
   "source": [
    "newSquare = Square(4)\n",
    "\n",
    "print(f'The height of the square is {newSquare.height}')\n",
    "print(f'Its width is {newSquare.width}')\n",
    "print('The perimeter is', newSquare.perimeter())\n",
    "print('The area is', newSquare.area())"
   ]
  },
  {
   "cell_type": "code",
   "execution_count": 14,
   "id": "f657224a",
   "metadata": {},
   "outputs": [
    {
     "name": "stdout",
     "output_type": "stream",
     "text": [
      "The surface of the cube is 24\n",
      "The volume is 8\n"
     ]
    }
   ],
   "source": [
    "newCube = Cube(2)\n",
    "\n",
    "print('The surface of the cube is', newCube.surface())\n",
    "print('The volume is', newCube.volume())"
   ]
  },
  {
   "cell_type": "markdown",
   "id": "bea9a1d7",
   "metadata": {},
   "source": [
    "##  Youth bank account\n",
    "\n",
    "Now we are going to define a 'youth account' type bank account, for this we are going to create a new YouthAccount class that derives from the one created previously in exercise 3-Bank account.\n",
    "\n",
    "When this new class is created, in addition to the account holder and the amount available, a bonus must be saved that will be expressed as a percentage.\n",
    "\n",
    "Build the following methods for the class:\n",
    "\n",
    "- A builder.\n",
    "\n",
    "- On this occasion, the holders of this type of account must be of legal age, therefore a valid_holder() method must be created that returns `true` if the holder is of legal age (You have already implemented this method, correct? Reuse your code!) but less than 25 years, and `false` if contrary.\n",
    "\n",
    "- In addition, the withdrawal of money method can only be done if the holder is valid.\n",
    "\n",
    "- A display() method should return the “Youth Account” message and the account bonus.\n",
    "\n",
    "- Think about the methods inherited from the superclass that need to be rewritten.\n",
    "\n",
    "- Instantiate accounts and call the display method for:\n",
    "        1- Angus Young, 24 years old, ID: 38765999, who has 400 Australian dollars in his account and has a 5% bonus.\n",
    "        2- Brian Johnson, 29 years old, ID: 30842948, who has 900 Australian dollars in his account.\n",
    "        3- Both accounts have been created, what is the difference between the two?"
   ]
  },
  {
   "cell_type": "code",
   "execution_count": 82,
   "id": "8b3cd19c",
   "metadata": {},
   "outputs": [],
   "source": [
    "# Type your code here:\n",
    "\n",
    "class YouthAccount(Account):\n",
    "    def __init__(self, holder:Person, amount, bonus):        \n",
    "        super().__init__(holder, amount)\n",
    "        self.bonus = bonus\n",
    "\n",
    "    def valid_holder(self):\n",
    "        return self.holder.age < 25 and self.holder.is_of_legal_age()\n",
    "\n",
    "    def withdraw(self):\n",
    "        if self.valid_holder():\n",
    "            new_qty = float(input(\"Enter the amount of money you want to withdraw:\"))\n",
    "            self._amount = self._amount - new_qty\n",
    "            return self._amount\n",
    "        else:\n",
    "            return self._amount\n",
    "\n",
    "    def display(self):\n",
    "        print(f\"Your Account, {self.holder.name}, has a bonus of\", self.bonus)"
   ]
  },
  {
   "cell_type": "code",
   "execution_count": 83,
   "id": "78887b5e",
   "metadata": {},
   "outputs": [],
   "source": [
    "angusyoung = Person('Angus Young', 24, 38765999)\n",
    "angus_account = Account(angusyoung, 400)\n",
    "angus_youth_account = YouthAccount(angusyoung, 400, \"5%\")"
   ]
  },
  {
   "cell_type": "code",
   "execution_count": 93,
   "id": "2407c8f8",
   "metadata": {},
   "outputs": [
    {
     "name": "stdout",
     "output_type": "stream",
     "text": [
      "name= Angus Young age= 24 ID= 38765999\n",
      "\n",
      "Bank account holder: Angus Young \n",
      "Amount of money in account: 400\n",
      "\n",
      "Your Account, Angus Young, has a bonus of 5%\n"
     ]
    }
   ],
   "source": [
    "angusyoung.display()\n",
    "print()\n",
    "angus_account.display()\n",
    "print()\n",
    "angus_youth_account.display()"
   ]
  },
  {
   "cell_type": "code",
   "execution_count": 95,
   "id": "59b45b54",
   "metadata": {},
   "outputs": [],
   "source": [
    "brianjohnson = Person('Brian Johnson', 29, 30842948)\n",
    "johnson_account = Account(brianjohnson, 900)\n",
    "johnson_youth_account = YouthAccount(brianjohnson, 900, \"0%\")"
   ]
  },
  {
   "cell_type": "code",
   "execution_count": 100,
   "id": "d25637e7",
   "metadata": {},
   "outputs": [
    {
     "name": "stdout",
     "output_type": "stream",
     "text": [
      "name= Brian Johnson age= 29 ID= 30842948\n",
      "\n",
      "Bank account holder: Brian Johnson \n",
      "Amount of money in account: 900\n",
      "\n",
      "Your Account, Brian Johnson, has a bonus of 0%\n",
      "\n",
      "False\n"
     ]
    }
   ],
   "source": [
    "brianjohnson.display()\n",
    "print()\n",
    "johnson_account.display()\n",
    "print()\n",
    "johnson_youth_account.display()\n",
    "print()\n",
    "print(johnson_youth_account.valid_holder())"
   ]
  }
 ],
 "metadata": {
  "kernelspec": {
   "display_name": "Python 3 (ipykernel)",
   "language": "python",
   "name": "python3"
  },
  "language_info": {
   "codemirror_mode": {
    "name": "ipython",
    "version": 3
   },
   "file_extension": ".py",
   "mimetype": "text/x-python",
   "name": "python",
   "nbconvert_exporter": "python",
   "pygments_lexer": "ipython3",
   "version": "3.9.12"
  },
  "toc": {
   "base_numbering": 1,
   "nav_menu": {},
   "number_sections": true,
   "sideBar": true,
   "skip_h1_title": true,
   "title_cell": "Table of Contents",
   "title_sidebar": "Contents",
   "toc_cell": false,
   "toc_position": {
    "height": "calc(100% - 180px)",
    "left": "10px",
    "top": "150px",
    "width": "156.312px"
   },
   "toc_section_display": true,
   "toc_window_display": false
  }
 },
 "nbformat": 4,
 "nbformat_minor": 5
}
