{
 "cells": [
  {
   "cell_type": "markdown",
   "id": "b84cbc71",
   "metadata": {},
   "source": [
    "# ContentResources: Object-Oriented Programming\n",
    "\n",
    "by [Luciano Gabbanelli](https://www.linkedin.com/in/luciano-gabbanelli-ph-d-75302218)"
   ]
  },
  {
   "cell_type": "markdown",
   "id": "6fc52324",
   "metadata": {},
   "source": [
    "<img width=80 src=\"https://media.giphy.com/media/KAq5w47R9rmTuvWOWa/giphy.gif\">\n",
    "\n",
    "<img width=150 src=\"Images/Assembler.png\">\n",
    "\n",
    "***"
   ]
  },
  {
   "cell_type": "markdown",
   "id": "b3d15560",
   "metadata": {},
   "source": [
    "# Python Classes and Objects\n",
    "\n",
    "Things you know:\n",
    "\n",
    "    - Python is an object oriented programming language.\n",
    "\n",
    "    - Almost everything in Python is an object, with its properties and methods.\n",
    "\n",
    "New things:\n",
    "    \n",
    "    -  Object-oriented Programming (OOPs) is a programming paradigm that uses objects and classes in programming.\n",
    "    \n",
    "    - A Class is like an object (instance) constructor, or a \"blueprint\" for creating objects.\n",
    "    \n",
    "    - It aims to implement real-world entities like inheritance, polymorphisms, encapsulation, etc. in the programming.\n",
    "    \n",
    "    - The main concept of OOPs is to bind the data and the functions that work on that together as a single unit so that no other part of the code can access this data.\n",
    "    \n",
    "<img width=250 src=\"Images/OOPS1-282x300.png\">\n"
   ]
  },
  {
   "cell_type": "markdown",
   "id": "0e69e07e",
   "metadata": {},
   "source": [
    "## Common language\n",
    "\n",
    "Let's start with some definitions of the main concepts of OOPs. You do not have to understand everything perfectly. You will become familiar with these concepts as you learn and get better at the subject. **Recommendation:** read this again once you have finished the exercises.\n",
    "\n",
    "\n",
    "<pre>\n",
    "\n",
    "    1. A <b>class</b> is a prototype of an object, encompassing attributes that all objects of that class have, and their behaviour. It is a logical entity that contains some attributes (such as class and instance variables) and methods (functions) that the objects of the class will have. They are accessed with a period. \n",
    "\n",
    "    2. An <b>instance</b> is a specific occurrence of an object that is created from a class. In other words, it is a particular object that belongs to a class. When you create an instance of a class, you are creating an object that has its own unique data and behavior, defined by the attributes and methods of the class. When you create an instance of a class, you are using a process known as instantiation. The instance is created by calling the class name as if it were a function, passing in any necessary arguments.\n",
    "\n",
    "    3. <b>Attributes</b> are variables that belong to an object and store information about the object; i.e. an object's attributes describe the characteristics or properties of the object. The attributes can be class (they take the same value for the whole class) or instance (they take a different value for each instance). The most common to use are the instance attributes that reflect states of the objects. Class attributes are used so that all objects share, for example, the same configurations or the same connection to a database.\n",
    "\n",
    "    4. <b>Inheritance</b> is a key concept that allows attributes to be transferred from one class to another. In this way, a new class can be created based on an existing class. The new class is called the subclass or derived class, and the existing class is called the superclass or base class. The subclass can inherit all of the attributes and methods of the superclass, and it can also add new attributes and methods or override existing ones. Inheritance is a powerful feature that allows you to create a hierarchy of classes and create more specific classes based on more general ones.\n",
    "\n",
    "    5. A <b>method</b> is a function that is associated with an object and is used to perform actions on that object. It provides a way to encapsulate behavior and make it a part of an object's interface, allowing you to interact with objects in a consistent and meaningful way.\n",
    "\n",
    "    6. An <b>object</b> is a single instance of a class.  It represents a real-world entity and encapsulates data and behavior. An object consists of:\n",
    "     <i>- A <b>State</b>, represented by its attributes. It also reflects its properties.</i>\n",
    "     <i>- A <b>Beahiour</b>, represented by its methods. It also reflects the response of an object to other objects.</i>\n",
    "     <i>- An <b>Identity</b> which gives a unique name to an object and enables one object to interact with other objects.</i>\n",
    "\n",
    "    7. <b>Polymorphism</b> allows us to use the same function for different types of data or classes. This concept allows objects of different classes to be treated as objects of the same class; therefore, it allows you to write code that can work with objects of different classes in a generic way.\n",
    "\n",
    "    8. The <b>delegation</b> is the concept with which we can delegate tasks of a class over some method of another class. It is a design pattern where one object, the delegate, is responsible for performing a certain task, while another object, the delegator, delegates the task to the delegate. The delegator passes the responsibility of performing the task to the delegate, and the delegate is responsible for carrying out the task and reporting back to the delegator. Delegation is used to separate the responsibilities of different objects.\n",
    "    \n",
    "</pre>"
   ]
  },
  {
   "cell_type": "markdown",
   "id": "0b12f91e",
   "metadata": {},
   "source": [
    "## Creating an empty Class"
   ]
  },
  {
   "cell_type": "markdown",
   "id": "c8b2476b",
   "metadata": {},
   "source": [
    "Classes are created with the reserved keyword `class`. By convention, classes are named using \"upper camel case\" (also known as Pascal case or bumpy case). That is, with a capital letter for each term that is part of the name; common examples include \"YouTube\", \"iPhone\" and \"eBay\".\n",
    "\n",
    "<img width=150 src=\"Images/camelCase.png\">\n",
    "\n",
    "Let us create a class named Dog and an object named obj of the class Dog defined above"
   ]
  },
  {
   "cell_type": "code",
   "execution_count": 1,
   "id": "bbd6ceab",
   "metadata": {},
   "outputs": [
    {
     "name": "stdout",
     "output_type": "stream",
     "text": [
      "<class '__main__.Dog'>\n"
     ]
    }
   ],
   "source": [
    "# Class Definition Syntax:\n",
    "class Dog:\n",
    "    pass\n",
    "\n",
    "# Instantiate the class (object creation):\n",
    "obj = Dog()\n",
    "\n",
    "print(type(obj))"
   ]
  },
  {
   "cell_type": "markdown",
   "id": "a002008b",
   "metadata": {},
   "source": [
    "## Basic keywords\n",
    "\n",
    "### The `__init__` method\n",
    "\n",
    "The `__init__` (the word init between two underscores) method is similar to constructors in C++ and Java. This method is automatically called as soon as an object of a class is instantiated. It is used to initialize the attributes of the object --constructor--. In simple words, it is the first method that gets executed when you create an object, and it sets up the initial state of the object.\n",
    "\n",
    "The `__init__` method is optional and you can have classes without an `__init__` method, but it is a common practice to have an `__init__` method in a class to initialize the attributes of the object.\n",
    "\n",
    "### The `self` keyword\n",
    "\n",
    "The `self` keyword is used to refer to the instance of the object being manipulated within a class method. It is similar to the pointer in C++ and the reference in Java. By using the `self` reference, we can access the attributes and methods of the object.\n",
    "\n",
    "When you define a method in a class, the first argument of the method must always be `self`. This is a convention in Python, and it tells Python that the method is part of the class and should be bound to the instance of the object when it is called.\n",
    "\n",
    "**Note:** The `self` argument is not a keyword in the Python language, and you can use a different name for the first argument, but `self` is the convention that is used in Python, and it is recommended to stick to it."
   ]
  },
  {
   "cell_type": "markdown",
   "id": "d3b9e111",
   "metadata": {},
   "source": [
    "### Here are some examples"
   ]
  },
  {
   "cell_type": "markdown",
   "id": "26bda14e",
   "metadata": {},
   "source": [
    "Let's create a person class to store people information"
   ]
  },
  {
   "cell_type": "code",
   "execution_count": 2,
   "id": "4785a5aa",
   "metadata": {},
   "outputs": [],
   "source": [
    "class Person():\n",
    "    def __init__(self, name, surname, age, contact):\n",
    "        # __init__ takes parameters that we assign to attributes, \n",
    "        # which we can then access\n",
    "        self.age = age # this is an attribute\n",
    "        self.contact = contact # this is another attribute\n",
    "        self.name = name\n",
    "        self.surname = surname\n",
    "        \n",
    "    def full_name(self):\n",
    "        # this method returns the full name from the first and last name\n",
    "        full_name = ', '.join([self.surname,self.name])\n",
    "        return full_name\n",
    "\n",
    "    def say_hello(self):\n",
    "        print(f'Hello, my name is {self.full_name()},',\n",
    "              f'and I leave you my email in case you need anything: {self.contact}')"
   ]
  },
  {
   "cell_type": "code",
   "execution_count": 3,
   "id": "13e0ddd1",
   "metadata": {
    "scrolled": true
   },
   "outputs": [
    {
     "name": "stdout",
     "output_type": "stream",
     "text": [
      "Hello, my name is Gabbanelli, Luciano, and I leave you my email in case you need anything: l.gabbanelli@assemblerschool.com\n"
     ]
    }
   ],
   "source": [
    "instantiate_person = Person(\"Luciano\", \"Gabbanelli\", 30, \"l.gabbanelli@assemblerschool.com\")\n",
    "instantiate_person.say_hello()"
   ]
  },
  {
   "cell_type": "markdown",
   "id": "fd5ef318",
   "metadata": {},
   "source": [
    "Now let's look at a menu class that manages dishes and prices"
   ]
  },
  {
   "cell_type": "code",
   "execution_count": 4,
   "id": "4ead656e",
   "metadata": {},
   "outputs": [],
   "source": [
    "class Menu():\n",
    "    def __init__(self, items):\n",
    "        self.items = items\n",
    "    \n",
    "    def price(self, items_list):\n",
    "        price = 0\n",
    "        for item_name in items_list:\n",
    "            price = price + self.items[item_name]\n",
    "        return price\n",
    "    \n",
    "    def number_of_items(self):\n",
    "        return len(self.items)\n",
    "            "
   ]
  },
  {
   "cell_type": "code",
   "execution_count": 5,
   "id": "469564a7",
   "metadata": {},
   "outputs": [
    {
     "name": "stdout",
     "output_type": "stream",
     "text": [
      "<__main__.Menu object at 0x000001DA987A0EB0>\n"
     ]
    }
   ],
   "source": [
    "my_menu = Menu({'latte':25, 'croissant':15})\n",
    "# Remember that dictionaries are defined between { and }\n",
    "# Where is this example from? Switzerland?\n",
    "\n",
    "print(my_menu)"
   ]
  },
  {
   "cell_type": "markdown",
   "id": "f2d5e8bf",
   "metadata": {},
   "source": [
    "- How much do a latte and two croissants cost? \n",
    "\n",
    "\n",
    "- How many items do we have?"
   ]
  },
  {
   "cell_type": "code",
   "execution_count": 6,
   "id": "2e18726b",
   "metadata": {},
   "outputs": [
    {
     "data": {
      "text/plain": [
       "55"
      ]
     },
     "execution_count": 6,
     "metadata": {},
     "output_type": "execute_result"
    }
   ],
   "source": [
    "my_menu.price(['latte','croissant','croissant'])"
   ]
  },
  {
   "cell_type": "code",
   "execution_count": 7,
   "id": "e4913c0d",
   "metadata": {},
   "outputs": [
    {
     "data": {
      "text/plain": [
       "2"
      ]
     },
     "execution_count": 7,
     "metadata": {},
     "output_type": "execute_result"
    }
   ],
   "source": [
    "my_menu.number_of_items()"
   ]
  },
  {
   "cell_type": "markdown",
   "id": "76ea254a",
   "metadata": {},
   "source": [
    "### Exercise\n",
    "\n",
    "**Task 1:** Let's improve the previous class... \n",
    "\n",
    "**I strongly recommend that you try to solve this problem on your own/squad and then continue with the video.**\n",
    "\n",
    "You'll figure out how to proceed, right? No one would enter items in this repetitive manner. If one had to enter 150 croissants, it would be a complete chaos!\n",
    "\n",
    "Instead of the price method receiving a list of strings, let's make it receive a list of dictionaries whose key-value pairs are the name of the product and its quantity. \n",
    "\n",
    "How much do 10 lattes and 30 croissants cost?"
   ]
  },
  {
   "cell_type": "code",
   "execution_count": 8,
   "id": "872bc2e3",
   "metadata": {},
   "outputs": [],
   "source": [
    "# Solution:\n",
    "class Menu():\n",
    "    def __init__(self, items):\n",
    "        self.items = items\n",
    "    \n",
    "    def price(self, items_list):\n",
    "        total_price = 0\n",
    "        for orders_dict in items_list:\n",
    "            # Read the dictionary\n",
    "            product_name = orders_dict['name']\n",
    "            product_quantity = orders_dict['quantity']\n",
    "            # Look for the price in the menu items (not on the previous dictionary!)\n",
    "            unit_price = self.items[product_name]        \n",
    "            # We add the total of each item\n",
    "            total_price = total_price + unit_price * product_quantity\n",
    "        return total_price\n",
    "    \n",
    "    def number_of_items(self):\n",
    "        return len(self.items)"
   ]
  },
  {
   "cell_type": "code",
   "execution_count": 9,
   "id": "d29b0416",
   "metadata": {},
   "outputs": [],
   "source": [
    "# Instantiate the class Muenu\n",
    "my_menu = Menu({'latte':25, 'croissant':15})"
   ]
  },
  {
   "cell_type": "code",
   "execution_count": 10,
   "id": "5a79fe14",
   "metadata": {},
   "outputs": [
    {
     "data": {
      "text/plain": [
       "700"
      ]
     },
     "execution_count": 10,
     "metadata": {},
     "output_type": "execute_result"
    }
   ],
   "source": [
    "# We invoke the price method\n",
    "my_menu.price([{'name':'latte','quantity':10},\n",
    "                {'name':'croissant','quantity':30}])"
   ]
  },
  {
   "cell_type": "markdown",
   "id": "0d98839a",
   "metadata": {},
   "source": [
    "## Class variables v.s. instance variables\n",
    "\n",
    "In Python, class variables and instance variables are two different types of variables that are used to store data in a class. Let me clarify:\n",
    "\n",
    "- Class variables are variables that are shared by all instances of a class. By convention, tey are defined outside of any method, and they are usually placed at the top level of the class definition (even before the constructor). Class variables are created by assigning a value to a variable within the class definition, but outside of any method, or by using the `class` keyword. They do not have `self` in their definition, but they do when you want to call it.\n",
    "\n",
    "\n",
    "- Instance variables, on the other hand, are variables that are specific to each instance of a class. They are defined within a method, usually the `__init__` method, and they are created by assigning a value to `self.<variable_name>` (that's why the term `self` is used).\\\n",
    "    The terms \"attributes\" and \"instance variables\" are often used interchangeably in Python. An attribute is simply a value that is associated with an object or class, while an instance variable is a variable that is specific to an instance of a class. \n",
    "\n",
    "\n",
    "**In summary, class variables are shared by all instances of a class, while instance variables are specific to each instance of a class.**"
   ]
  },
  {
   "cell_type": "code",
   "execution_count": 11,
   "id": "aa3bf465",
   "metadata": {},
   "outputs": [],
   "source": [
    "class Course:\n",
    "    max_students = 35 # define class variable\n",
    "\n",
    "    def __init__(self, name, duration, students = None, cost=10):\n",
    "        self.name = name\n",
    "        self.duration = duration\n",
    "        if students is None:\n",
    "            self.students = []\n",
    "        else:\n",
    "            self.students = students\n",
    "        self.cost = cost # costo tiene un valor por default\n",
    "\n",
    "    def enroll_student(self, name):\n",
    "        self.students.append(name) # to be able to call students I have to use self\n",
    "        print(f'The student {name} was added.')\n",
    "\n",
    "    def taking_attendance(self):\n",
    "        for a in self.students:\n",
    "            print(f'Student: {a}')\n",
    "\n",
    "    def summary(self):\n",
    "        print(f'The course {self.name} has {self.duration} classes designed for {len(self.students)} students.\\n'\n",
    "              f'For the very modest price of {self.cost} rupees.',\n",
    "              # call class variable:\n",
    "              f'The current occupancy is {round(len(self.students)/self.max_students,2)*100}%') "
   ]
  },
  {
   "cell_type": "code",
   "execution_count": 12,
   "id": "82784321",
   "metadata": {},
   "outputs": [
    {
     "data": {
      "text/plain": [
       "[]"
      ]
     },
     "execution_count": 12,
     "metadata": {},
     "output_type": "execute_result"
    }
   ],
   "source": [
    "# Let's instantiate a Python course\n",
    "python_course = Course('Python', 6)\n",
    "python_course.students"
   ]
  },
  {
   "cell_type": "code",
   "execution_count": 13,
   "id": "3e8ad696",
   "metadata": {},
   "outputs": [
    {
     "name": "stdout",
     "output_type": "stream",
     "text": [
      "The student Diotima was added.\n",
      "The student Aritophanes was added.\n"
     ]
    }
   ],
   "source": [
    "# We call instance methods\n",
    "python_course.enroll_student('Diotima')\n",
    "python_course.enroll_student('Aritophanes')"
   ]
  },
  {
   "cell_type": "code",
   "execution_count": 14,
   "id": "f00f340c",
   "metadata": {},
   "outputs": [
    {
     "name": "stdout",
     "output_type": "stream",
     "text": [
      "Student: Diotima\n",
      "Student: Aritophanes\n"
     ]
    }
   ],
   "source": [
    "python_course.taking_attendance()"
   ]
  },
  {
   "cell_type": "code",
   "execution_count": 15,
   "id": "57008f7d",
   "metadata": {},
   "outputs": [
    {
     "name": "stdout",
     "output_type": "stream",
     "text": [
      "The course Python has 6 classes designed for 2 students.\n",
      "For the very modest price of 10 rupees. The current occupancy is 6.0%\n"
     ]
    }
   ],
   "source": [
    "python_course.summary()"
   ]
  },
  {
   "cell_type": "code",
   "execution_count": 16,
   "id": "42cd45c7",
   "metadata": {},
   "outputs": [
    {
     "name": "stdout",
     "output_type": "stream",
     "text": [
      "The student Agatón was added.\n",
      "The student Erixímaco was added.\n",
      "The student Sócrates was added.\n"
     ]
    }
   ],
   "source": [
    "#Let us instantiate a new course\n",
    "ml_course = Course('Machine Learning', 8)\n",
    "ml_course.enroll_student('Agatón')\n",
    "ml_course.enroll_student('Erixímaco')\n",
    "ml_course.enroll_student('Sócrates')"
   ]
  },
  {
   "cell_type": "code",
   "execution_count": 17,
   "id": "a4a79178",
   "metadata": {},
   "outputs": [
    {
     "data": {
      "text/plain": [
       "['Agatón', 'Erixímaco', 'Sócrates']"
      ]
     },
     "execution_count": 17,
     "metadata": {},
     "output_type": "execute_result"
    }
   ],
   "source": [
    "ml_course.students"
   ]
  },
  {
   "cell_type": "markdown",
   "id": "30fd3bf8",
   "metadata": {},
   "source": [
    "**Hold on!!**\n",
    "\n",
    "### Exercise\n",
    "\n",
    "**Task 2:** Change the maximum number of students in the course and then print the summary for both courses."
   ]
  },
  {
   "cell_type": "code",
   "execution_count": 18,
   "id": "1d9e1cc3",
   "metadata": {},
   "outputs": [],
   "source": [
    "# Type your code here:\n",
    "Course.max_students = 40"
   ]
  },
  {
   "cell_type": "code",
   "execution_count": 19,
   "id": "0d9fec1a",
   "metadata": {},
   "outputs": [
    {
     "name": "stdout",
     "output_type": "stream",
     "text": [
      "The course Machine Learning has 8 classes designed for 3 students.\n",
      "For the very modest price of 10 rupees. The current occupancy is 7.000000000000001%\n",
      "The course Python has 6 classes designed for 2 students.\n",
      "For the very modest price of 10 rupees. The current occupancy is 5.0%\n"
     ]
    }
   ],
   "source": [
    "ml_course.summary()\n",
    "python_course.summary()"
   ]
  },
  {
   "cell_type": "markdown",
   "id": "dad5792c",
   "metadata": {},
   "source": [
    "## Two excercices and some new things\n",
    "\n",
    "**I strongly recommend that you try to solve this problem on your own/squad and then continue with the video.**\n",
    "\n",
    "### Exercise\n",
    "\n",
    "**Task 3:** Define a Point class that takes x and y (coordinates) as parameters and check that it can be instantiated correctly.\n",
    "\n",
    "You can check it by instantiating a point with: `Point(1.0, 2.0)`"
   ]
  },
  {
   "cell_type": "code",
   "execution_count": 20,
   "id": "fc6cfc78",
   "metadata": {},
   "outputs": [],
   "source": [
    "# Thype your code here:\n",
    "\n",
    "class Point:\n",
    "    def __init__(self, x, y):\n",
    "        self.x = x\n",
    "        self.y = y"
   ]
  },
  {
   "cell_type": "code",
   "execution_count": 21,
   "id": "9f5881da",
   "metadata": {},
   "outputs": [
    {
     "data": {
      "text/plain": [
       "<__main__.Point at 0x1da99793940>"
      ]
     },
     "execution_count": 21,
     "metadata": {},
     "output_type": "execute_result"
    }
   ],
   "source": [
    "point = Point(1.,2.)\n",
    "point"
   ]
  },
  {
   "cell_type": "code",
   "execution_count": 22,
   "id": "9e4243dd",
   "metadata": {},
   "outputs": [
    {
     "name": "stdout",
     "output_type": "stream",
     "text": [
      "<__main__.Point object at 0x000001DA99793940>\n"
     ]
    }
   ],
   "source": [
    "print(point)"
   ]
  },
  {
   "cell_type": "markdown",
   "id": "81826bfd",
   "metadata": {},
   "source": [
    "### The `__str__` method\n",
    "\n",
    "In Python there are so-called magic methods or dunder (Double Underscores). These methods are characterized precisely by beginning and ending with `__`. \n",
    "\n",
    "The `__str__` method is a special method in Python that allows you to define how a class should be represented as a string. This method only takes `self` as a parameter and returns a string. It is useful when you want to provide a human-readable representation of an object.\n",
    "\n",
    "\n",
    "### Exercise\n",
    "\n",
    "**Task 4:** Add the `__str__` method to the Point class created above, taking only the `self` paramenter and returning the string we want to display when we `print` the object. Remember that you can use the values of `x` and `y`."
   ]
  },
  {
   "cell_type": "code",
   "execution_count": 23,
   "id": "620b386c",
   "metadata": {},
   "outputs": [],
   "source": [
    "# Thype your code here:\n",
    "\n",
    "class Point:\n",
    "    def __init__(self, x, y):\n",
    "        self.x = x\n",
    "        self.y = y\n",
    "  \n",
    "    def __str__(self):\n",
    "        return f\"({self.x}, {self.y})\""
   ]
  },
  {
   "cell_type": "code",
   "execution_count": 24,
   "id": "5d073630",
   "metadata": {},
   "outputs": [
    {
     "name": "stdout",
     "output_type": "stream",
     "text": [
      "(4, 5)\n"
     ]
    }
   ],
   "source": [
    "print(Point(4,5))"
   ]
  },
  {
   "cell_type": "markdown",
   "id": "177d4067",
   "metadata": {},
   "source": [
    "## Inheritance\n",
    "\n",
    "Inheritance is a mechanism in object-oriented programming that allows a new class to be based on an existing class, inheriting all of its properties and methods. The existing class is known as the base class or superclass, while the new class is known as the derived class or subclass. This allows you to reuse code and create a hierarchy of related classes that share common functionality.\n",
    "\n",
    "</br>\n",
    "\n",
    "Let's create a derived class (Student) that inherits attributes and methods from the base class (Person).\n",
    "\n",
    "To access the methods of the superclass we will use the reserved method `super()`. With this method we can invoke the constructor and thus access the attributes of that class."
   ]
  },
  {
   "cell_type": "code",
   "execution_count": 25,
   "id": "d510cd0b",
   "metadata": {},
   "outputs": [],
   "source": [
    "# Derived class\n",
    "\n",
    "class Student(Person):\n",
    "    def __init__(self, course: Course, *args): \n",
    "        \"\"\" \n",
    "        Student belongs to a Course (an instance of the Course class) and \n",
    "        also has other attributes that it will inherit from the base class.\n",
    "        \"\"\"\n",
    "        self.course = course\n",
    "        print('This is the content of *args:',*args, '\\n')\n",
    "        \n",
    "        super().__init__(*args) # We initialize the superclass. \n",
    "                                # We call it using super() and execute the constructor\n",
    "                                # Also notice that we unpack args\n",
    "\n",
    "    def say_hello(self): # Overloading method  (see below)\n",
    "        super().say_hello() # we call Person's .say_hello() method\n",
    "        print('I am studying:') # and add more stuff to this method\n",
    "        self.course.summary()\n",
    "\n",
    "    def study(self, data): # We can also define new methods\n",
    "        self.knowledge = data"
   ]
  },
  {
   "cell_type": "markdown",
   "id": "910c85e4",
   "metadata": {},
   "source": [
    "### Overloading method \n",
    "\n",
    "The Person class has a `.say_hello()` method and for Student we have also defined a `.say_hello()` method. When we instantiate a Student and execute the `.say_hello()` method, what will be executed is the Student's `.say_hello()` method, not the Person method. This does not prevent the `.say_hello()` method of Student from calling that of Person. Also, it's worth mentioning that they both have the same parameters (none in this case). This design pattern is called method overloading or overriding."
   ]
  },
  {
   "cell_type": "code",
   "execution_count": 26,
   "id": "87e79246",
   "metadata": {},
   "outputs": [
    {
     "name": "stdout",
     "output_type": "stream",
     "text": [
      "This is the content of *args: Bon Scott 49 BS@ACDC.com \n",
      "\n"
     ]
    }
   ],
   "source": [
    "scott = Student(python_course, 'Bon', 'Scott', 49, 'BS@ACDC.com' )"
   ]
  },
  {
   "cell_type": "code",
   "execution_count": 27,
   "id": "69704547",
   "metadata": {},
   "outputs": [
    {
     "name": "stdout",
     "output_type": "stream",
     "text": [
      "Hello, my name is Scott, Bon, and I leave you my email in case you need anything: BS@ACDC.com\n",
      "I am studying:\n",
      "The course Python has 6 classes designed for 2 students.\n",
      "For the very modest price of 10 rupees. The current occupancy is 5.0%\n"
     ]
    }
   ],
   "source": [
    "scott.say_hello()"
   ]
  },
  {
   "cell_type": "code",
   "execution_count": 28,
   "id": "a4999c13",
   "metadata": {},
   "outputs": [],
   "source": [
    "scott.study('You can inherit from another class and extend its methods')"
   ]
  },
  {
   "cell_type": "code",
   "execution_count": 29,
   "id": "e1151c49",
   "metadata": {
    "scrolled": true
   },
   "outputs": [
    {
     "data": {
      "text/plain": [
       "'You can inherit from another class and extend its methods'"
      ]
     },
     "execution_count": 29,
     "metadata": {},
     "output_type": "execute_result"
    }
   ],
   "source": [
    "scott.knowledge"
   ]
  },
  {
   "cell_type": "code",
   "execution_count": 30,
   "id": "6d47ed66",
   "metadata": {},
   "outputs": [],
   "source": [
    "scott.study('''Because of how this variable is defined, knowledge does not accumulate but is replaced''')"
   ]
  },
  {
   "cell_type": "code",
   "execution_count": 31,
   "id": "e1fb9dbf",
   "metadata": {
    "scrolled": true
   },
   "outputs": [
    {
     "data": {
      "text/plain": [
       "'Because of how this variable is defined, knowledge does not accumulate but is replaced'"
      ]
     },
     "execution_count": 31,
     "metadata": {},
     "output_type": "execute_result"
    }
   ],
   "source": [
    "scott.knowledge"
   ]
  },
  {
   "cell_type": "markdown",
   "id": "65f7d5df",
   "metadata": {},
   "source": [
    "### Exercise\n",
    "\n",
    "**Theoretical Task 5:** List what are the attributes and methods of scott and specify which ones come from Person and which ones are defined by being Student.\n",
    "\n",
    "Also, print Scott's full name using the corresponding method and listen to some of his music tracks ⚡⚡⚡ "
   ]
  },
  {
   "cell_type": "code",
   "execution_count": 32,
   "id": "6db01db0",
   "metadata": {},
   "outputs": [
    {
     "data": {
      "text/plain": [
       "['__class__',\n",
       " '__delattr__',\n",
       " '__dict__',\n",
       " '__dir__',\n",
       " '__doc__',\n",
       " '__eq__',\n",
       " '__format__',\n",
       " '__ge__',\n",
       " '__getattribute__',\n",
       " '__gt__',\n",
       " '__hash__',\n",
       " '__init__',\n",
       " '__init_subclass__',\n",
       " '__le__',\n",
       " '__lt__',\n",
       " '__module__',\n",
       " '__ne__',\n",
       " '__new__',\n",
       " '__reduce__',\n",
       " '__reduce_ex__',\n",
       " '__repr__',\n",
       " '__setattr__',\n",
       " '__sizeof__',\n",
       " '__str__',\n",
       " '__subclasshook__',\n",
       " '__weakref__',\n",
       " 'age',\n",
       " 'contact',\n",
       " 'course',\n",
       " 'full_name',\n",
       " 'knowledge',\n",
       " 'name',\n",
       " 'say_hello',\n",
       " 'study',\n",
       " 'surname']"
      ]
     },
     "execution_count": 32,
     "metadata": {},
     "output_type": "execute_result"
    }
   ],
   "source": [
    "# Solution\n",
    "dir(scott)"
   ]
  },
  {
   "cell_type": "code",
   "execution_count": 33,
   "id": "d6757e94",
   "metadata": {},
   "outputs": [
    {
     "data": {
      "text/plain": [
       "['__class__',\n",
       " '__delattr__',\n",
       " '__dict__',\n",
       " '__dir__',\n",
       " '__doc__',\n",
       " '__eq__',\n",
       " '__format__',\n",
       " '__ge__',\n",
       " '__getattribute__',\n",
       " '__gt__',\n",
       " '__hash__',\n",
       " '__init__',\n",
       " '__init_subclass__',\n",
       " '__le__',\n",
       " '__lt__',\n",
       " '__module__',\n",
       " '__ne__',\n",
       " '__new__',\n",
       " '__reduce__',\n",
       " '__reduce_ex__',\n",
       " '__repr__',\n",
       " '__setattr__',\n",
       " '__sizeof__',\n",
       " '__str__',\n",
       " '__subclasshook__',\n",
       " '__weakref__',\n",
       " 'cost',\n",
       " 'duration',\n",
       " 'enroll_student',\n",
       " 'max_students',\n",
       " 'name',\n",
       " 'students',\n",
       " 'summary',\n",
       " 'taking_attendance']"
      ]
     },
     "execution_count": 33,
     "metadata": {},
     "output_type": "execute_result"
    }
   ],
   "source": [
    "dir(python_course)"
   ]
  },
  {
   "cell_type": "code",
   "execution_count": 34,
   "id": "157bdc24",
   "metadata": {},
   "outputs": [
    {
     "data": {
      "text/plain": [
       "'Scott, Bon'"
      ]
     },
     "execution_count": 34,
     "metadata": {},
     "output_type": "execute_result"
    }
   ],
   "source": [
    "scott.full_name()"
   ]
  },
  {
   "cell_type": "markdown",
   "id": "fd8c1341",
   "metadata": {},
   "source": [
    "[⚡⚡⚡ Songs ⚡⚡⚡](https://open.spotify.com/album/76mvVgXOde87B9aOzLXCOI?si=kgVKhmTOT667g_8Vru-FBg)"
   ]
  },
  {
   "cell_type": "markdown",
   "id": "e7e2cc3d",
   "metadata": {},
   "source": [
    "## Access protection\n",
    "\n",
    "In Python, access protection is achieved through the use of naming conventions rather than access modifiers like in other programming languages. We can change the access (public, non-public -or private-, protected) of the methods and variables.\n",
    "\n",
    "By convention, there are two different ways of encapsulation:\n",
    "\n",
    "- `_private` (prefixed with an underscore character)\n",
    "- `__protected` (prefixed with a double underscore character)\n",
    "\n",
    "**Note** that for non-public (private) attributes or methods \n",
    "this is just a convention, and it is still possible to access private attributes and methods from outside the class. It's important to use access protection as a way of indicating to other developers how your code should be used, rather than as a way of preventing unauthorized access.\n",
    "\n",
    "On the other hand, using `__` (double `_`) as a prefix, triggers name mangling. Name mangling is a technique used to make an attribute/method private to the class, even in the presence of subclasses. The variable or method is directly hidden from the suggestion list for the user and he will not be able to call it from the object either. For this reason, we say that the attribute or method is protected.\n",
    "\n",
    "</br>\n",
    "\n",
    "**ChatGPT recommendation ;)**\n",
    "\n",
    "Note that using double underscores to indicate private methods is not very common in Python, and is generally not recommended, as it can make code harder to read and understand. It is usually better to use a single underscore to indicate protected or private methods by convention, and to rely on name mangling only for attributes.\n",
    "\n",
    "</br>\n",
    "\n",
    "Let's see an example of encapsulation:"
   ]
  },
  {
   "cell_type": "code",
   "execution_count": 35,
   "id": "f06ac512",
   "metadata": {},
   "outputs": [],
   "source": [
    "class Car():\n",
    "\n",
    "    def __init__(self, color, brand, __maximum_speed):\n",
    "        self.color = color\n",
    "        self.brand = brand\n",
    "        self.__maximum_speed = 200\n",
    "        self.velocity = 0\n",
    "        self.__counter = 0 # kilometros recorridos\n",
    "    \n",
    "    def go_forward(self, hours=1, velocity=10):\n",
    "        if self._check_speed(velocity):\n",
    "            self.velocity = velocity\n",
    "            print(f'Moving forward for {hours} hours')\n",
    "            self.__counter += hours*self.velocity\n",
    "        else:\n",
    "            print(f\"Your car can't go that fast, the maximum is {self.__maximum_speed}\")\n",
    "    \n",
    "    def _check_speed(self, velocity):\n",
    "        is_valid = False\n",
    "        if velocity < self.__maximum_speed:\n",
    "            is_valid = True\n",
    "            if self.velocity < velocity:\n",
    "                print(\"You're going to speed up!\")\n",
    "            else:\n",
    "                print(\"You're going to slow down!\")\n",
    "        else:\n",
    "            print(\"Your engine does not allow you to go so fast\")\n",
    "            is_valid = False\n",
    "        return is_valid\n",
    "    \n",
    "    def status(self):\n",
    "        print(f\"You are going at a speed of {self.velocity} and you have traveled {self.__counter} km.\")"
   ]
  },
  {
   "cell_type": "code",
   "execution_count": 36,
   "id": "89f708f9",
   "metadata": {},
   "outputs": [],
   "source": [
    "supercar = Car('red', 'Ferraudi', 200)"
   ]
  },
  {
   "cell_type": "code",
   "execution_count": 37,
   "id": "e5f32b8c",
   "metadata": {},
   "outputs": [
    {
     "name": "stdout",
     "output_type": "stream",
     "text": [
      "You're going to speed up!\n",
      "Moving forward for 10 hours\n"
     ]
    }
   ],
   "source": [
    "# public method\n",
    "supercar.go_forward(10)"
   ]
  },
  {
   "cell_type": "code",
   "execution_count": 38,
   "id": "81f4b792",
   "metadata": {},
   "outputs": [
    {
     "name": "stdout",
     "output_type": "stream",
     "text": [
      "You are going at a speed of 10 and you have traveled 100 km.\n"
     ]
    }
   ],
   "source": [
    "supercar.status()"
   ]
  },
  {
   "cell_type": "code",
   "execution_count": 39,
   "id": "6305e8ac",
   "metadata": {},
   "outputs": [
    {
     "ename": "AttributeError",
     "evalue": "'Car' object has no attribute '__counter'",
     "output_type": "error",
     "traceback": [
      "\u001b[1;31m---------------------------------------------------------------------------\u001b[0m",
      "\u001b[1;31mAttributeError\u001b[0m                            Traceback (most recent call last)",
      "Input \u001b[1;32mIn [39]\u001b[0m, in \u001b[0;36m<cell line: 4>\u001b[1;34m()\u001b[0m\n\u001b[0;32m      1\u001b[0m \u001b[38;5;66;03m# You can access a method that contains a protected attribute, \u001b[39;00m\n\u001b[0;32m      2\u001b[0m \u001b[38;5;66;03m# but you cannot access the protected attribute.\u001b[39;00m\n\u001b[0;32m      3\u001b[0m \u001b[38;5;66;03m# This cell will raise an error!\u001b[39;00m\n\u001b[1;32m----> 4\u001b[0m \u001b[43msupercar\u001b[49m\u001b[38;5;241;43m.\u001b[39;49m\u001b[43m__counter\u001b[49m\n",
      "\u001b[1;31mAttributeError\u001b[0m: 'Car' object has no attribute '__counter'"
     ]
    }
   ],
   "source": [
    "# You can access a method that contains a protected attribute, \n",
    "# but you cannot access the protected attribute.\n",
    "# This cell will raise an error!\n",
    "supercar.__counter"
   ]
  },
  {
   "cell_type": "code",
   "execution_count": 41,
   "id": "6a19d117",
   "metadata": {},
   "outputs": [
    {
     "name": "stdout",
     "output_type": "stream",
     "text": [
      "You're going to slow down!\n"
     ]
    },
    {
     "data": {
      "text/plain": [
       "True"
      ]
     },
     "execution_count": 41,
     "metadata": {},
     "output_type": "execute_result"
    }
   ],
   "source": [
    "# You can access a non-public method, but you shouldn't\n",
    "supercar._check_speed(10)"
   ]
  },
  {
   "cell_type": "code",
   "execution_count": 42,
   "id": "09684e27",
   "metadata": {},
   "outputs": [
    {
     "data": {
      "text/plain": [
       "200"
      ]
     },
     "execution_count": 42,
     "metadata": {},
     "output_type": "execute_result"
    }
   ],
   "source": [
    "# Having said that, this is how you can access a hidden attribute :O\n",
    "supercar._Car__maximum_speed"
   ]
  },
  {
   "cell_type": "markdown",
   "id": "fa6ed011",
   "metadata": {},
   "source": [
    "When you use double underscores to name an attribute or method, Python will modify the name to include the class name as a prefix.\n",
    "\n",
    "For example, if you define an attribute called `__protected_attr` in a class called MyClass, Python will mangle the name to `_MyClass__protected_attr`."
   ]
  },
  {
   "cell_type": "markdown",
   "id": "b9539fd1",
   "metadata": {},
   "source": [
    "### Exercise \n",
    "**Task 6:** Define a Line class is defined. This class takes as parameters two Point() objects (instances of the class defined above).\n",
    "\n",
    "**Hint:** Do you remember that with two points you can uniquely define a line, right?\n",
    "\n",
    "<img width=350 src=\"Images/Recta.png\">\n",
    "\n",
    "\n",
    "1- Add a method called `length` that allows calculating the length of the line. For this, it is worth remembering that this can be performed as the hypotenuse of the right-angled triangle that is formed with the two points.\n",
    "\n",
    "**Hint:** Pythagoras theorem states that \n",
    "\n",
    "<img src=\"https://static1.abc.es/media/ciencia/2019/10/31/TeoremadePitagorasABC-kW8F-U3032581527206JG-620x450@abc.jpg\" width=250/>\n",
    "\n",
    "$$(length)^2=(x_2-x_1)^2 + (y_2-y_1)^2$$\n",
    "\n",
    "2- Add a `slope` method that allows calculating the slope of the line. Remember that this can be calculated as the quotient between the differences of `y`s and `x`s (you have the formula for $m$ in the Figure).\n"
   ]
  },
  {
   "cell_type": "code",
   "execution_count": 43,
   "id": "8dc8cca9",
   "metadata": {},
   "outputs": [],
   "source": [
    "#Type your code here:\n",
    "\n",
    "class Line(object):\n",
    "    def __init__(self, p1: Point, p2: Point):\n",
    "        self.p1 = Point(x0,y0)\n",
    "        self.p2 = Point(x1,y1)\n",
    "\n",
    "    def __str__(self):\n",
    "        x1, y1 = self.p1.x, self.p1.y\n",
    "        x2, y2 = self.p2.x, self.p2.y\n",
    "        linea = \"((%f,%f),(%f,%f))\" % (x0, y0, x1, y1)\n",
    "        return linea\n",
    "    \n",
    "    def length(self):\n",
    "        dist_x = self.p2.x - self.p1.x\n",
    "        dist_y = self.p2.y - self.p1.y\n",
    "        dist_x_squared = dist_x ** 2\n",
    "        dist_y_squared = dist_y ** 2\n",
    "        largo = (dist_x_squared + dist_y_squared) ** 0.5\n",
    "        return largo\n",
    "    \n",
    "    def slope(self):\n",
    "        dist_y = self.p2.y - self.p1.y\n",
    "        dist_x = self.p2.x - self.p1.x\n",
    "        slope = dist_y/dist_x\n",
    "        return slope"
   ]
  },
  {
   "cell_type": "code",
   "execution_count": 44,
   "id": "96c4efd4",
   "metadata": {},
   "outputs": [],
   "source": [
    "# Define the coordinates of both points\n",
    "x0,y0 = 7,5\n",
    "x1,y1 = 4,1\n",
    "\n",
    "# Define the pints calling its class\n",
    "p1 = Point(x0,y0)\n",
    "p2 = Point(x1,y1)\n",
    "line = Line(p1,p2)"
   ]
  },
  {
   "cell_type": "code",
   "execution_count": 45,
   "id": "6d582222",
   "metadata": {},
   "outputs": [
    {
     "data": {
      "text/plain": [
       "5.0"
      ]
     },
     "execution_count": 45,
     "metadata": {},
     "output_type": "execute_result"
    }
   ],
   "source": [
    "line.length()"
   ]
  },
  {
   "cell_type": "code",
   "execution_count": 46,
   "id": "0b0cd79b",
   "metadata": {},
   "outputs": [
    {
     "data": {
      "text/plain": [
       "1.3333333333333333"
      ]
     },
     "execution_count": 46,
     "metadata": {},
     "output_type": "execute_result"
    }
   ],
   "source": [
    "line.slope()"
   ]
  },
  {
   "cell_type": "markdown",
   "id": "7e2ca63d",
   "metadata": {},
   "source": [
    "## Static Methods\n",
    "\n",
    "What happens if we don't want to instantiate the objects when using them? In some designs, it makes sense to use classes as simple method repositories.\n",
    "\n",
    "In Python, a static method is a method that belongs to a class rather than an instance of the class. It is defined using the `@staticmethod` decorator and does not have access to the instance or class variables.\n",
    "\n",
    "A static method can be called either on the class itself, as `MyClass.static_method()`, or on an instance of the class, as `obj.static_method()`. However, it does not have access to the `self` parameter, and cannot modify the instance or class variables.\n",
    "\n",
    "Static methods are useful for defining utility functions that are related to the class, but do not depend on any instance-specific state. They can be called without creating an instance of the class, which can make the code more readable and efficient.\n",
    "\n",
    "**Let's give an example:** Suppose we need to solve several geometric operations, I can create a \"Geometry\" class that contains all the necessary methods."
   ]
  },
  {
   "cell_type": "code",
   "execution_count": 47,
   "id": "a1ae8c53",
   "metadata": {},
   "outputs": [],
   "source": [
    "import math\n",
    "\n",
    "class Geometry():\n",
    "    \"\"\"Solve geometric operations\"\"\"\n",
    "    \n",
    "    @staticmethod\n",
    "    def slope(x1,y1,x2,y2):\n",
    "        return (y2-y1)/(x2-x1)\n",
    "    \n",
    "    @staticmethod\n",
    "    def circle_area(radius):\n",
    "        return math.pi * radius**2"
   ]
  },
  {
   "cell_type": "code",
   "execution_count": 48,
   "id": "fe3648fa",
   "metadata": {},
   "outputs": [
    {
     "data": {
      "text/plain": [
       "28.274333882308138"
      ]
     },
     "execution_count": 48,
     "metadata": {},
     "output_type": "execute_result"
    }
   ],
   "source": [
    "Geometry.circle_area(3)"
   ]
  },
  {
   "cell_type": "markdown",
   "id": "b96ba1f2",
   "metadata": {},
   "source": [
    "## Duck typing\n",
    "\n",
    "In Python, duck typing is a programming concept that allows you to use an object based on its behavior (i.e., its methods and attributes) rather than its type. The idea is that if an object walks like a duck, swims like a duck, and quacks like a duck, then it is a duck, regardless of whether it is a duck object or not.\n",
    "\n",
    "In practice, this means that you can pass any object to a function or method, as long as it has the necessary attributes or methods to perform the required actions. The function or method does not need to know the type of the object, as long as it can \"quack\" in the expected way."
   ]
  },
  {
   "cell_type": "code",
   "execution_count": 49,
   "id": "7f2ebf0e",
   "metadata": {},
   "outputs": [],
   "source": [
    "class TheHobbit:\n",
    "    \n",
    "    def __init__(self,name):\n",
    "        self.name = name\n",
    "    \n",
    "    def __len__(self):\n",
    "        return 95022\n",
    "    \n",
    "    def greet(self):\n",
    "        return f'Hi! I am {self.name}'"
   ]
  },
  {
   "cell_type": "code",
   "execution_count": 50,
   "id": "35b5827a",
   "metadata": {},
   "outputs": [
    {
     "name": "stdout",
     "output_type": "stream",
     "text": [
      "95022\n",
      "is not the same than\n",
      "14\n"
     ]
    }
   ],
   "source": [
    "the_hobbit = TheHobbit('Frodo')\n",
    "print(len(the_hobbit))\n",
    "print('is not the same than') \n",
    "print(len(the_hobbit.greet()))"
   ]
  },
  {
   "cell_type": "code",
   "execution_count": 51,
   "id": "e4c72784",
   "metadata": {},
   "outputs": [],
   "source": [
    "my_str = \"Hello World\"\n",
    "my_list = [34, 54, 65, 78]\n",
    "my_dict = {\"a\": 123, \"b\": 456, \"c\": 789}"
   ]
  },
  {
   "cell_type": "code",
   "execution_count": 53,
   "id": "9bfb4a80",
   "metadata": {},
   "outputs": [
    {
     "name": "stdout",
     "output_type": "stream",
     "text": [
      "11\n",
      "4\n",
      "3\n",
      "95022\n"
     ]
    },
    {
     "ename": "TypeError",
     "evalue": "object of type 'int' has no len()",
     "output_type": "error",
     "traceback": [
      "\u001b[1;31m---------------------------------------------------------------------------\u001b[0m",
      "\u001b[1;31mTypeError\u001b[0m                                 Traceback (most recent call last)",
      "Input \u001b[1;32mIn [53]\u001b[0m, in \u001b[0;36m<cell line: 5>\u001b[1;34m()\u001b[0m\n\u001b[0;32m      3\u001b[0m \u001b[38;5;28mprint\u001b[39m(\u001b[38;5;28mlen\u001b[39m(my_dict))\n\u001b[0;32m      4\u001b[0m \u001b[38;5;28mprint\u001b[39m(\u001b[38;5;28mlen\u001b[39m(the_hobbit))\n\u001b[1;32m----> 5\u001b[0m \u001b[38;5;28mprint\u001b[39m(\u001b[38;5;28;43mlen\u001b[39;49m\u001b[43m(\u001b[49m\u001b[38;5;241;43m4\u001b[39;49m\u001b[43m)\u001b[49m)\n",
      "\u001b[1;31mTypeError\u001b[0m: object of type 'int' has no len()"
     ]
    }
   ],
   "source": [
    "print(len(my_str))\n",
    "print(len(my_list))\n",
    "print(len(my_dict))\n",
    "print(len(the_hobbit))\n",
    "print(len(4))"
   ]
  },
  {
   "cell_type": "markdown",
   "id": "c933579b",
   "metadata": {},
   "source": [
    "<img width=350 src=\"Images/Duck.png\">\n",
    "\n",
    "In other words, we are interested in what the object can do, rather than with what the object is. Duck Typing refers to the principle of not constraining or binding the code to specific data types.\n",
    "\n",
    "**Another example:** let's say we have some classes of animals, and all of them except for one have a quack method:"
   ]
  },
  {
   "cell_type": "code",
   "execution_count": 54,
   "id": "2da9eca7",
   "metadata": {},
   "outputs": [],
   "source": [
    "class Duck:\n",
    "    def quack(self):\n",
    "        print(\"Quack!\")\n",
    "        \n",
    "class Cat:\n",
    "    def quack(self):\n",
    "        print(\"Meoooquack!\")\n",
    "\n",
    "class Dog:\n",
    "    def quack(self):\n",
    "        print(\"Woooquack!\")\n",
    "        \n",
    "class Lion:\n",
    "    def quack(self):\n",
    "        print(\"Roaaaaquack!\")\n",
    "        \n",
    "class CupOfCoffe:\n",
    "    def __init__(self, name):\n",
    "        self.name = name\n",
    "        \n",
    "    def speak(self):\n",
    "        print(f\"Hi! I am {self.name} the cup of coffe. You seriously don't expect me to start quacking!\")"
   ]
  },
  {
   "cell_type": "code",
   "execution_count": 55,
   "id": "101db0a2",
   "metadata": {},
   "outputs": [],
   "source": [
    "duck = Duck()\n",
    "cat = Cat()\n",
    "dog = Dog()\n",
    "lion = Lion()\n",
    "cup_of_coffe = CupOfCoffe('Charles')"
   ]
  },
  {
   "cell_type": "markdown",
   "id": "458298c7",
   "metadata": {},
   "source": [
    "Now, let's say we have a function called `make_quack` that takes an object and calls its `quack` method:"
   ]
  },
  {
   "cell_type": "code",
   "execution_count": 56,
   "id": "ae80b3e0",
   "metadata": {},
   "outputs": [],
   "source": [
    "def make_quack(obj):\n",
    "    obj.quack()"
   ]
  },
  {
   "cell_type": "markdown",
   "id": "e35f44d3",
   "metadata": {},
   "source": [
    "Here's where duck typing comes into play. We can call `make_quack` method with an object of any other class that happens to have a `speak` method, and it will work just fine. \n",
    "\n",
    "This is possible because Python does not check the type of the object that is passed to `make_quack`. It simply looks for the method and calls it if it exists. "
   ]
  },
  {
   "cell_type": "code",
   "execution_count": 57,
   "id": "38a79efd",
   "metadata": {},
   "outputs": [
    {
     "name": "stdout",
     "output_type": "stream",
     "text": [
      "Quack!\n",
      "Meoooquack!\n",
      "Woooquack!\n"
     ]
    }
   ],
   "source": [
    "make_quack(duck)\n",
    "make_quack(cat)\n",
    "make_quack(dog)"
   ]
  },
  {
   "cell_type": "code",
   "execution_count": 58,
   "id": "31e40f70",
   "metadata": {},
   "outputs": [
    {
     "name": "stdout",
     "output_type": "stream",
     "text": [
      "Hi! I am Charles the cup of coffe. You seriously don't expect me to start quacking!\n",
      "\n"
     ]
    },
    {
     "ename": "AttributeError",
     "evalue": "'CupOfCoffe' object has no attribute 'quack'",
     "output_type": "error",
     "traceback": [
      "\u001b[1;31m---------------------------------------------------------------------------\u001b[0m",
      "\u001b[1;31mAttributeError\u001b[0m                            Traceback (most recent call last)",
      "Input \u001b[1;32mIn [58]\u001b[0m, in \u001b[0;36m<cell line: 3>\u001b[1;34m()\u001b[0m\n\u001b[0;32m      1\u001b[0m cup_of_coffe\u001b[38;5;241m.\u001b[39mspeak()\n\u001b[0;32m      2\u001b[0m \u001b[38;5;28mprint\u001b[39m()\n\u001b[1;32m----> 3\u001b[0m \u001b[43mmake_quack\u001b[49m\u001b[43m(\u001b[49m\u001b[43mcup_of_coffe\u001b[49m\u001b[43m)\u001b[49m\n",
      "Input \u001b[1;32mIn [56]\u001b[0m, in \u001b[0;36mmake_quack\u001b[1;34m(obj)\u001b[0m\n\u001b[0;32m      1\u001b[0m \u001b[38;5;28;01mdef\u001b[39;00m \u001b[38;5;21mmake_quack\u001b[39m(obj):\n\u001b[1;32m----> 2\u001b[0m     \u001b[43mobj\u001b[49m\u001b[38;5;241;43m.\u001b[39;49m\u001b[43mquack\u001b[49m()\n",
      "\u001b[1;31mAttributeError\u001b[0m: 'CupOfCoffe' object has no attribute 'quack'"
     ]
    }
   ],
   "source": [
    "cup_of_coffe.speak()\n",
    "print()\n",
    "make_quack(cup_of_coffe)"
   ]
  },
  {
   "cell_type": "markdown",
   "id": "8caee544",
   "metadata": {},
   "source": [
    "##  Monkey patching\n",
    "\n",
    "Monkey patching is a technique in Python that allows you to modify or extend the behavior of a class or module at runtime."
   ]
  },
  {
   "cell_type": "code",
   "execution_count": 59,
   "id": "e5e439c0",
   "metadata": {},
   "outputs": [
    {
     "data": {
      "text/plain": [
       "'Hi! I am Frodo'"
      ]
     },
     "execution_count": 59,
     "metadata": {},
     "output_type": "execute_result"
    }
   ],
   "source": [
    "the_hobbit.greet()"
   ]
  },
  {
   "cell_type": "markdown",
   "id": "73f1b573",
   "metadata": {},
   "source": [
    "Now let's say you want to modify the behavior of the `greet()` method. You can do this by using monkey patching, as follows:"
   ]
  },
  {
   "cell_type": "code",
   "execution_count": 60,
   "id": "34c425d3",
   "metadata": {},
   "outputs": [],
   "source": [
    "def long_greeting(self):\n",
    "    return f'Hello my name is {self.name}'"
   ]
  },
  {
   "cell_type": "code",
   "execution_count": 61,
   "id": "f686d1a3",
   "metadata": {},
   "outputs": [],
   "source": [
    "TheHobbit.greet = long_greeting"
   ]
  },
  {
   "cell_type": "code",
   "execution_count": 62,
   "id": "84217b28",
   "metadata": {},
   "outputs": [
    {
     "data": {
      "text/plain": [
       "'Hello my name is Frodo'"
      ]
     },
     "execution_count": 62,
     "metadata": {},
     "output_type": "execute_result"
    }
   ],
   "source": [
    "the_hobbit.greet()"
   ]
  },
  {
   "cell_type": "markdown",
   "id": "01bff665",
   "metadata": {},
   "source": [
    "This is especially useful when we want to slightly override modules made by third parties (or by ourselves at another time!)\n",
    "\n",
    "This is just a simple example, but monkey patching can be a powerful tool for extending or modifying the behavior of classes and modules in more complex ways.\n",
    "\n",
    "</br>\n",
    "\n",
    "**ChatGPT recommendation ;)**\n",
    "\n",
    "However, it's worth noting that monkey patching can be dangerous if not used carefully. Modifying the behavior of a class or module at runtime can lead to unexpected results and make code harder to debug. It's generally a good practice to avoid monkey patching unless there's a good reason to use it.\n",
    "\n",
    "</br>\n",
    "\n",
    "**Do you remember the following?**"
   ]
  },
  {
   "cell_type": "code",
   "execution_count": 63,
   "id": "60c88366",
   "metadata": {},
   "outputs": [
    {
     "data": {
      "text/plain": [
       "3.141592653589793"
      ]
     },
     "execution_count": 63,
     "metadata": {},
     "output_type": "execute_result"
    }
   ],
   "source": [
    "math.pi"
   ]
  },
  {
   "cell_type": "code",
   "execution_count": 64,
   "id": "f756bee1",
   "metadata": {},
   "outputs": [],
   "source": [
    "math.pi = 3"
   ]
  },
  {
   "cell_type": "code",
   "execution_count": 65,
   "id": "87462dbe",
   "metadata": {},
   "outputs": [
    {
     "data": {
      "text/plain": [
       "3"
      ]
     },
     "execution_count": 65,
     "metadata": {},
     "output_type": "execute_result"
    }
   ],
   "source": [
    "math.pi"
   ]
  },
  {
   "cell_type": "markdown",
   "id": "d9c1fa68",
   "metadata": {},
   "source": [
    "Restart the Kernel to restore the original value of $\\pi$"
   ]
  },
  {
   "cell_type": "code",
   "execution_count": 1,
   "id": "cd08963c",
   "metadata": {},
   "outputs": [
    {
     "data": {
      "text/plain": [
       "3.141592653589793"
      ]
     },
     "execution_count": 1,
     "metadata": {},
     "output_type": "execute_result"
    }
   ],
   "source": [
    "import math\n",
    "math.pi"
   ]
  }
 ],
 "metadata": {
  "kernelspec": {
   "display_name": "Python 3 (ipykernel)",
   "language": "python",
   "name": "python3"
  },
  "language_info": {
   "codemirror_mode": {
    "name": "ipython",
    "version": 3
   },
   "file_extension": ".py",
   "mimetype": "text/x-python",
   "name": "python",
   "nbconvert_exporter": "python",
   "pygments_lexer": "ipython3",
   "version": "3.9.12"
  },
  "toc": {
   "base_numbering": 1,
   "nav_menu": {},
   "number_sections": true,
   "sideBar": true,
   "skip_h1_title": true,
   "title_cell": "Table of Contents",
   "title_sidebar": "Contents",
   "toc_cell": false,
   "toc_position": {},
   "toc_section_display": true,
   "toc_window_display": false
  }
 },
 "nbformat": 4,
 "nbformat_minor": 5
}
