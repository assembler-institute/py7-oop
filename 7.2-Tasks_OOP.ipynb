{
 "cells": [
  {
   "cell_type": "markdown",
   "id": "d1f0c4e6",
   "metadata": {},
   "source": [
    "# Object-Oriented Programming Task Sheet\n",
    "\n",
    "by [Luciano Gabbanelli](https://www.linkedin.com/in/luciano-gabbanelli-ph-d-75302218)"
   ]
  },
  {
   "cell_type": "markdown",
   "id": "22f08206",
   "metadata": {},
   "source": [
    "<img width=80 src=\"https://media.giphy.com/media/KAq5w47R9rmTuvWOWa/giphy.gif\">\n",
    "\n",
    "<img width=150 src=\"Images/Assembler.png\">\n",
    "\n",
    "***"
   ]
  },
  {
   "cell_type": "markdown",
   "id": "1ad80854",
   "metadata": {},
   "source": [
    "## Person class\n",
    "\n",
    "Let's create a class called Person. Its attributes are: name, age and ID number. Build the following methods for the class:\n",
    "\n",
    "- A constructor, where the data can be empty.\n",
    "\n",
    "- display(): Displays the person's data.\n",
    "\n",
    "- is_of_legal_age(): Returns a logical value indicating whether it is of legal age."
   ]
  },
  {
   "cell_type": "code",
   "execution_count": 21,
   "id": "68dd3a97",
   "metadata": {},
   "outputs": [],
   "source": [
    "# Type you code here:\n"
   ]
  },
  {
   "cell_type": "markdown",
   "id": "dc23917a",
   "metadata": {},
   "source": [
    "## Shopping cart\n",
    "\n",
    "In this exercise we are going to program a shopping cart. For this we are going to create two classes: Cart and Item. \n",
    "\n",
    "The item will have as properties a name, a price and a url of the image that represents it. By default, the url is initialized to blank.\n",
    "\n",
    "The Cart has as its only property a list of dictionaries: a private variable called `_lines`.\n",
    "\n",
    "Carts are initialized empty and then lines are added using the `item_aggregator()` method. Each line is a dictionary with key: \"item\" and value: \"quantity\" (depending on the amount that we want to add to the cart).\n",
    "\n",
    "Finally, the carts have a `get_total()` method that returns the sum of the prices of the items, multiplied by the quantities that are in each line.\n",
    "\n",
    "</br>\n",
    "\n",
    "Once you are done with this:\n",
    "\n",
    "- Create the items banana priced at \\\\$49.5 and yogurt priced at \\\\$32.5\n",
    "\n",
    "- Add two bananas and 3 yogurts to the cart\n",
    "\n",
    "- Get the total price for these items"
   ]
  },
  {
   "cell_type": "code",
   "execution_count": 2,
   "id": "1693ce7b",
   "metadata": {},
   "outputs": [],
   "source": [
    "# Type you code here:\n"
   ]
  },
  {
   "cell_type": "markdown",
   "id": "93e3dbd3",
   "metadata": {},
   "source": [
    "## Bank account\n",
    "\n",
    "Create a class called Account that will have the following attributes: bank account holder (which is a\n",
    "Person; you can use the class defined in exercice 1-Person class) and amount of money available (may have decimals). The holder will be mandatory and the amount is optional. \n",
    "\n",
    "Build the following methods for your class:\n",
    "\n",
    "- A constructor, where the **data can be empty**.\n",
    "\n",
    "- The amount attribute should not be modified directly, only by depositing or withdrawing money. **The code must indicate this feature for the attribute explicitly to other developers..**\n",
    "\n",
    "- display(): Displays the account data.\n",
    "\n",
    "- deposit(amount): an amount is deposited into the account. If the amount entered is negative, nothing will be done.\n",
    "\n",
    "- withdraw(amount): an amount is withdrawn from the account. The account may be in Red.\n",
    "\n",
    "- The deposit and withdrawal methods must work by entering the amount on the screen. When executing these methods, the script must launch a message indicating the amount of money with which one of these two options wants to be carried out."
   ]
  },
  {
   "cell_type": "code",
   "execution_count": 79,
   "id": "1e135364",
   "metadata": {},
   "outputs": [],
   "source": [
    "# Type your code here:\n"
   ]
  },
  {
   "cell_type": "markdown",
   "id": "3a3f5326",
   "metadata": {},
   "source": [
    "## Inheritance\n",
    "\n",
    "Write a Python class named `Rectangle` with a constructor that accepts two parameters, the height `h` and the width `w`, and methods to compute their properties: area and perimeter.\n",
    "\n",
    "In Euclidean plane geometry, a rectangle is a quadrilateral with four right angles. To find the area and perimeter of a rectangle, you will have to operate the length and the width.\n",
    "\n",
    "<img width=200 src=\"Images/area-rectangle.png\">\n",
    "\n",
    "A rectangle with four sides of equal length is a square: create a subclass (derived class) called `Square` inherited from `Rectangle` with a constructor that accepts one parameter `h`, and sets both the `h` and `w` attributes to the value of `h`.\n",
    "\n",
    "- Instantiate a rectangle\n",
    "\n",
    "- Query the base, height, perimeter, and area of this rectangle\n",
    "\n",
    "- Instantiate a square\n",
    "\n",
    "- Perform the same queries as for the rectangle\n",
    "\n",
    "To conclude, we are going to create a third class called Cube whose base class will respond to Square. In this class you are going to add a method called surphase that uses the area method of its base or parent class; and a method called volume.\n",
    "\n",
    "- Instantiate a cube\n",
    "\n",
    "- Query its surface and volume\n",
    "\n",
    "**Hint:** If you display the faces of a cube, we see that its surface is associated with the areas of the 6 squares that make it up.\n",
    "\n",
    "<img width=100 src=\"Images/cube.png\">"
   ]
  },
  {
   "cell_type": "code",
   "execution_count": 10,
   "id": "9b2af14a",
   "metadata": {},
   "outputs": [],
   "source": [
    "# Type your code here:\n"
   ]
  },
  {
   "cell_type": "markdown",
   "id": "bea9a1d7",
   "metadata": {},
   "source": [
    "##  Youth bank account\n",
    "\n",
    "Now we are going to define a 'youth account' type bank account, for this we are going to create a new YouthAccount class that derives from the one created previously in exercise 3-Bank account.\n",
    "\n",
    "When this new class is created, in addition to the account holder and the amount available, a bonus must be saved that will be expressed as a percentage.\n",
    "\n",
    "Build the following methods for the class:\n",
    "\n",
    "- A builder.\n",
    "\n",
    "- On this occasion, the holders of this type of account must be of legal age, therefore a valid_holder() method must be created that returns `true` if the holder is of legal age (You have already implemented this method, correct? Reuse your code!) but less than 25 years, and `false` if contrary.\n",
    "\n",
    "- In addition, the withdrawal of money method can only be done if the holder is valid.\n",
    "\n",
    "- A display() method should return the “Youth Account” message and the account bonus.\n",
    "\n",
    "- Think about the methods inherited from the superclass that need to be rewritten.\n",
    "\n",
    "- Instantiate accounts and call the display method for:\n",
    "        1- Angus Young, 24 years old, ID: 38765999, who has 400 Australian dollars in his account and has a 5% bonus.\n",
    "        2- Brian Johnson, 29 years old, ID: 30842948, who has 900 Australian dollars in his account.\n",
    "        3- Both accounts have been created, what is the difference between the two?"
   ]
  },
  {
   "cell_type": "code",
   "execution_count": 82,
   "id": "8b3cd19c",
   "metadata": {},
   "outputs": [],
   "source": [
    "# Type your code here:\n"
   ]
  }
 ],
 "metadata": {
  "kernelspec": {
   "display_name": "Python 3 (ipykernel)",
   "language": "python",
   "name": "python3"
  },
  "language_info": {
   "codemirror_mode": {
    "name": "ipython",
    "version": 3
   },
   "file_extension": ".py",
   "mimetype": "text/x-python",
   "name": "python",
   "nbconvert_exporter": "python",
   "pygments_lexer": "ipython3",
   "version": "3.9.12"
  },
  "toc": {
   "base_numbering": 1,
   "nav_menu": {},
   "number_sections": true,
   "sideBar": true,
   "skip_h1_title": true,
   "title_cell": "Table of Contents",
   "title_sidebar": "Contents",
   "toc_cell": false,
   "toc_position": {
    "height": "calc(100% - 180px)",
    "left": "10px",
    "top": "150px",
    "width": "156.312px"
   },
   "toc_section_display": true,
   "toc_window_display": false
  }
 },
 "nbformat": 4,
 "nbformat_minor": 5
}
